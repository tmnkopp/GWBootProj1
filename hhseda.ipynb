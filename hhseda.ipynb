{
 "cells": [
  {
   "cell_type": "code",
   "execution_count": 208,
   "metadata": {},
   "outputs": [],
   "source": [
    "import subprocess \n",
    "import pandas as pd\n",
    "import numpy as np \n",
    "import re\n",
    "import requests\n",
    "import matplotlib.pyplot as plt \n",
    "%matplotlib inline     "
   ]
  },
  {
   "cell_type": "code",
   "execution_count": 217,
   "metadata": {},
   "outputs": [],
   "source": [
    "df_providers = pd.read_csv('data/providers.csv')\n",
    "df_reimbursements = pd.read_csv('data/reimbursements.csv')"
   ]
  },
  {
   "cell_type": "code",
   "execution_count": 222,
   "metadata": {
    "scrolled": true
   },
   "outputs": [],
   "source": [
    "df = pd.merge(\n",
    "      df_providers\n",
    "    , df_reimbursements\n",
    "    , on=\"Provider Name\"\n",
    "    , how=\"left\", \n",
    "      suffixes=['','┌∩┐(◣_◢)┌∩┐']\n",
    "    ).fillna('0') \n",
    "\n",
    "df.drop(\n",
    "    [c for c in df.columns if '┌∩┐(◣_◢)┌∩┐' in c]\n",
    "    , axis=1\n",
    "    , inplace=True\n",
    "    )\n",
    "\n",
    "states = set(df.State)\n",
    "\n",
    "for col in ['Payment','Claims Paid for Testing','Claims Paid for Treatment']:\n",
    "    df[col] = df[col].apply(\n",
    "        lambda x: re.sub('\\D', '', x)\n",
    "    ).astype(float)\n",
    " \n",
    "df['Claims']=df['Claims Paid for Testing']+df['Claims Paid for Treatment']\n",
    "\n",
    "df_provider_reimbursements = df "
   ]
  },
  {
   "cell_type": "code",
   "execution_count": 224,
   "metadata": {},
   "outputs": [
    {
     "data": {
      "text/html": [
       "<div>\n",
       "<style scoped>\n",
       "    .dataframe tbody tr th:only-of-type {\n",
       "        vertical-align: middle;\n",
       "    }\n",
       "\n",
       "    .dataframe tbody tr th {\n",
       "        vertical-align: top;\n",
       "    }\n",
       "\n",
       "    .dataframe thead th {\n",
       "        text-align: right;\n",
       "    }\n",
       "</style>\n",
       "<table border=\"1\" class=\"dataframe\">\n",
       "  <thead>\n",
       "    <tr style=\"text-align: right;\">\n",
       "      <th></th>\n",
       "      <th></th>\n",
       "      <th>Payment</th>\n",
       "      <th>Claims</th>\n",
       "    </tr>\n",
       "    <tr>\n",
       "      <th>Provider Name</th>\n",
       "      <th>State</th>\n",
       "      <th></th>\n",
       "      <th></th>\n",
       "    </tr>\n",
       "  </thead>\n",
       "  <tbody>\n",
       "    <tr>\n",
       "      <th>24 ON PHYSICIANS PC</th>\n",
       "      <th>GA</th>\n",
       "      <td>17776704.0</td>\n",
       "      <td>128430.0</td>\n",
       "    </tr>\n",
       "    <tr>\n",
       "      <th>360 CLINICS PLLC</th>\n",
       "      <th>TX</th>\n",
       "      <td>374.0</td>\n",
       "      <td>19929.0</td>\n",
       "    </tr>\n",
       "    <tr>\n",
       "      <th>A2Z DIAGNOSTICS LLC</th>\n",
       "      <th>NJ</th>\n",
       "      <td>48618.0</td>\n",
       "      <td>44130.0</td>\n",
       "    </tr>\n",
       "    <tr>\n",
       "      <th>AAA AMBULANCE SERVICE</th>\n",
       "      <th>MS</th>\n",
       "      <td>1048920.0</td>\n",
       "      <td>23248.0</td>\n",
       "    </tr>\n",
       "    <tr>\n",
       "      <th>AARON I JENG MD INC</th>\n",
       "      <th>CA</th>\n",
       "      <td>19328.0</td>\n",
       "      <td>647.0</td>\n",
       "    </tr>\n",
       "    <tr>\n",
       "      <th>...</th>\n",
       "      <th>...</th>\n",
       "      <td>...</td>\n",
       "      <td>...</td>\n",
       "    </tr>\n",
       "    <tr>\n",
       "      <th>YES WELLNESS PA</th>\n",
       "      <th>NJ</th>\n",
       "      <td>11816.0</td>\n",
       "      <td>288.0</td>\n",
       "    </tr>\n",
       "    <tr>\n",
       "      <th>YORK GENERAL HOSPITAL</th>\n",
       "      <th>NE</th>\n",
       "      <td>10650928.0</td>\n",
       "      <td>12427.0</td>\n",
       "    </tr>\n",
       "    <tr>\n",
       "      <th rowspan=\"2\" valign=\"top\">YORK HOSPITAL</th>\n",
       "      <th>ME</th>\n",
       "      <td>7347826.0</td>\n",
       "      <td>105396.0</td>\n",
       "    </tr>\n",
       "    <tr>\n",
       "      <th>PA</th>\n",
       "      <td>45906990.0</td>\n",
       "      <td>105396.0</td>\n",
       "    </tr>\n",
       "    <tr>\n",
       "      <th>ZIA DIAGNOSTIC IMAGING</th>\n",
       "      <th>NM</th>\n",
       "      <td>339110.0</td>\n",
       "      <td>309.0</td>\n",
       "    </tr>\n",
       "  </tbody>\n",
       "</table>\n",
       "<p>942 rows × 2 columns</p>\n",
       "</div>"
      ],
      "text/plain": [
       "                                 Payment    Claims\n",
       "Provider Name          State                      \n",
       "24 ON PHYSICIANS PC    GA     17776704.0  128430.0\n",
       "360 CLINICS PLLC       TX          374.0   19929.0\n",
       "A2Z DIAGNOSTICS LLC    NJ        48618.0   44130.0\n",
       "AAA AMBULANCE SERVICE  MS      1048920.0   23248.0\n",
       "AARON I JENG MD INC    CA        19328.0     647.0\n",
       "...                                  ...       ...\n",
       "YES WELLNESS PA        NJ        11816.0     288.0\n",
       "YORK GENERAL HOSPITAL  NE     10650928.0   12427.0\n",
       "YORK HOSPITAL          ME      7347826.0  105396.0\n",
       "                       PA     45906990.0  105396.0\n",
       "ZIA DIAGNOSTIC IMAGING NM       339110.0     309.0\n",
       "\n",
       "[942 rows x 2 columns]"
      ]
     },
     "execution_count": 224,
     "metadata": {},
     "output_type": "execute_result"
    }
   ],
   "source": [
    "df=df_provider_reimbursements\n",
    "df=df[['Provider Name', 'State', 'Payment', 'Claims']\n",
    "      ].groupby(['Provider Name', 'State']).sum()\n",
    "df.loc[df.Claims > 0]"
   ]
  },
  {
   "cell_type": "code",
   "execution_count": 179,
   "metadata": {},
   "outputs": [
    {
     "data": {
      "text/html": [
       "<div>\n",
       "<style scoped>\n",
       "    .dataframe tbody tr th:only-of-type {\n",
       "        vertical-align: middle;\n",
       "    }\n",
       "\n",
       "    .dataframe tbody tr th {\n",
       "        vertical-align: top;\n",
       "    }\n",
       "\n",
       "    .dataframe thead th {\n",
       "        text-align: right;\n",
       "    }\n",
       "</style>\n",
       "<table border=\"1\" class=\"dataframe\">\n",
       "  <thead>\n",
       "    <tr style=\"text-align: right;\">\n",
       "      <th></th>\n",
       "      <th></th>\n",
       "      <th>Claims</th>\n",
       "    </tr>\n",
       "    <tr>\n",
       "      <th>Provider Name</th>\n",
       "      <th>State</th>\n",
       "      <th></th>\n",
       "    </tr>\n",
       "  </thead>\n",
       "  <tbody>\n",
       "    <tr>\n",
       "      <th>\"D\" KLAN INC.</th>\n",
       "      <th>NV</th>\n",
       "      <td>1</td>\n",
       "    </tr>\n",
       "    <tr>\n",
       "      <th>#A1 DIABETES &amp; MEDICAL SUPPLY, INC.</th>\n",
       "      <th>TN</th>\n",
       "      <td>1</td>\n",
       "    </tr>\n",
       "    <tr>\n",
       "      <th>'A' STREET CLINIC OF CHIROPRACTIC, PLLC</th>\n",
       "      <th>WA</th>\n",
       "      <td>1</td>\n",
       "    </tr>\n",
       "    <tr>\n",
       "      <th>(RIVERSIDE FAMILY MEDICINE)</th>\n",
       "      <th>TN</th>\n",
       "      <td>1</td>\n",
       "    </tr>\n",
       "    <tr>\n",
       "      <th>007 SMILES, INC</th>\n",
       "      <th>FL</th>\n",
       "      <td>1</td>\n",
       "    </tr>\n",
       "    <tr>\n",
       "      <th>...</th>\n",
       "      <th>...</th>\n",
       "      <td>...</td>\n",
       "    </tr>\n",
       "    <tr>\n",
       "      <th>ZYWIE, INC.</th>\n",
       "      <th>GA</th>\n",
       "      <td>1</td>\n",
       "    </tr>\n",
       "    <tr>\n",
       "      <th>ZZM INVESTMENTS</th>\n",
       "      <th>IL</th>\n",
       "      <td>1</td>\n",
       "    </tr>\n",
       "    <tr>\n",
       "      <th>ZZZ ANESTHESIA</th>\n",
       "      <th>CA</th>\n",
       "      <td>1</td>\n",
       "    </tr>\n",
       "    <tr>\n",
       "      <th>ZZZ ANESTHESIA, INC</th>\n",
       "      <th>OH</th>\n",
       "      <td>1</td>\n",
       "    </tr>\n",
       "    <tr>\n",
       "      <th>ZZZ SLEEP MEDICINE SPECIALISTS PLLC</th>\n",
       "      <th>TX</th>\n",
       "      <td>1</td>\n",
       "    </tr>\n",
       "  </tbody>\n",
       "</table>\n",
       "<p>364863 rows × 1 columns</p>\n",
       "</div>"
      ],
      "text/plain": [
       "                                               Claims\n",
       "Provider Name                           State        \n",
       "\"D\" KLAN INC.                           NV          1\n",
       "#A1 DIABETES & MEDICAL SUPPLY, INC.     TN          1\n",
       "'A' STREET CLINIC OF CHIROPRACTIC, PLLC WA          1\n",
       "(RIVERSIDE FAMILY MEDICINE)             TN          1\n",
       "007 SMILES, INC                         FL          1\n",
       "...                                               ...\n",
       "ZYWIE, INC.                             GA          1\n",
       "ZZM INVESTMENTS                         IL          1\n",
       "ZZZ ANESTHESIA                          CA          1\n",
       "ZZZ ANESTHESIA, INC                     OH          1\n",
       "ZZZ SLEEP MEDICINE SPECIALISTS PLLC     TX          1\n",
       "\n",
       "[364863 rows x 1 columns]"
      ]
     },
     "execution_count": 179,
     "metadata": {},
     "output_type": "execute_result"
    }
   ],
   "source": [
    "df=df_provider_reimbursements\n",
    "df=df[['Provider Name', 'State', 'Payment', 'Claims']].groupby(['Provider Name', 'State']).count()\n",
    "df.loc[(df.Claims > 0) & (df.Payment > 0)]"
   ]
  },
  {
   "cell_type": "code",
   "execution_count": 225,
   "metadata": {},
   "outputs": [
    {
     "data": {
      "image/png": "[encoded data removed]",
      "text/plain": [
       "<Figure size 1728x216 with 1 Axes>"
      ]
     },
     "metadata": {
      "needs_background": "light"
     },
     "output_type": "display_data"
    }
   ],
   "source": [
    "df=df_provider_reimbursements \n",
    "df=df[['Provider Name', 'State', 'Payment', 'Claims']].groupby(['State']).agg({'Payment':'sum', 'Claims':'count'})\n",
    "plt.figure(figsize=(24,3))\n",
    "plt.bar(df.index,df['Claims'])\n",
    "plt.show()"
   ]
  },
  {
   "cell_type": "code",
   "execution_count": 226,
   "metadata": {},
   "outputs": [
    {
     "data": {
      "image/png": "[encoded data removed]",
      "text/plain": [
       "<Figure size 1728x216 with 1 Axes>"
      ]
     },
     "metadata": {
      "needs_background": "light"
     },
     "output_type": "display_data"
    }
   ],
   "source": [
    "fig, ax = plt.subplots(figsize=(24, 3)) \n",
    "ax = plt.subplot(111) \n",
    "ax.bar(df.index, df['Payment']  )  \n",
    "plt.show()\n"
   ]
  },
  {
   "cell_type": "code",
   "execution_count": null,
   "metadata": {},
   "outputs": [],
   "source": [
    "class Main(object):\n",
    "    def __init__(self):\n",
    "        self.context = ''\n",
    "    def tomodel(self, col_names):\n",
    "        d = {}\n",
    "        #subprocess.call([\"C:\\\\Users\\\\Tim\\\\AppData\\\\Local\\\\Programs\\\\Microsoft VS Code\\\\Code.exe\" ]) \n",
    "        for col_name in col_names:  \n",
    "            key = col_name\n",
    "            for char in col_name: \n",
    "                if not char.isalpha():\n",
    "                    key = key.replace(char,'')        \n",
    "            d[key] = col_name.replace('\\'','').replace('  ','').strip()\n",
    "        return d  \n",
    "    def tonum(num):\n",
    "        try:\n",
    "            num=re.sub('\\D', '', str(num))\n",
    "        except:\n",
    "            print (num)  \n",
    "        return num.astype(float)\n",
    "m = Main()\n",
    "m.tomodel(df_providers.columns)"
   ]
  },
  {
   "cell_type": "code",
   "execution_count": null,
   "metadata": {},
   "outputs": [],
   "source": []
  },
  {
   "cell_type": "code",
   "execution_count": null,
   "metadata": {},
   "outputs": [],
   "source": []
  },
  {
   "cell_type": "code",
   "execution_count": null,
   "metadata": {},
   "outputs": [],
   "source": [
    "\n"
   ]
  },
  {
   "cell_type": "code",
   "execution_count": null,
   "metadata": {},
   "outputs": [],
   "source": [
    "#df_main= df.rename(columns=lambda x: ''.join([c for c in x if c.isalpha()]), inplace=True)  "
   ]
  },
  {
   "cell_type": "code",
   "execution_count": null,
   "metadata": {},
   "outputs": [],
   "source": [
    "#┌∩┐(◣_◢)┌∩┐\n",
    "#╭∩╮(Ο_Ο)╭∩╮\n",
    "#   ≧◔◡◔≦"
   ]
  }
 ],
 "metadata": {
  "kernelspec": {
   "display_name": "Python 3",
   "language": "python",
   "name": "python3"
  },
  "language_info": {
   "codemirror_mode": {
    "name": "ipython",
    "version": 3
   },
   "file_extension": ".py",
   "mimetype": "text/x-python",
   "name": "python",
   "nbconvert_exporter": "python",
   "pygments_lexer": "ipython3",
   "version": "3.8.3"
  }
 },
 "nbformat": 4,
 "nbformat_minor": 4
}
