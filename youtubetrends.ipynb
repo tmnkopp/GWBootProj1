{
 "cells": [
  {
   "cell_type": "code",
   "execution_count": 1,
   "metadata": {},
   "outputs": [],
   "source": [
    "import json  \n",
    "import requests \n",
    "import pandas as pd  \n",
    "import matplotlib as plt \n",
    "import calendar\n",
    "from googleapiclient.discovery import build  "
   ]
  },
  {
   "cell_type": "code",
   "execution_count": 2,
   "metadata": {},
   "outputs": [],
   "source": [
    "CONST_USE_CACHE = True"
   ]
  },
  {
   "cell_type": "code",
   "execution_count": 3,
   "metadata": {},
   "outputs": [],
   "source": [
    "api_key = pd.read_json('../config-master.json', typ='series')['gkey'] \n",
    "youtube = build(\"youtube\", \"v3\", developerKey=api_key)  "
   ]
  },
  {
   "cell_type": "markdown",
   "metadata": {},
   "source": [
    "# TRENDING CACHE"
   ]
  },
  {
   "cell_type": "code",
   "execution_count": 4,
   "metadata": {
    "scrolled": true
   },
   "outputs": [],
   "source": [
    "if not CONST_USE_CACHE:\n",
    "    print('fetching api')\n",
    "    datefrom = '2020-03-15'\n",
    "    dateto = '2020-07-15'\n",
    "    request = youtube.search().list(\n",
    "        q=\"quarantine challenge\",\n",
    "        part=[\"snippet\", \"id\"], \n",
    "        type=\"video\", \n",
    "        publishedAfter=f\"{datefrom}T00:00:00Z\", \n",
    "        publishedBefore=f\"{dateto}T00:00:00Z\",\n",
    "        videoDuration=\"any\", \n",
    "        order=\"viewCount\", \n",
    "        maxResults=50) \n",
    "    response=request.execute()  \n",
    "    df=pd.DataFrame(response['items']) \n",
    "    df.to_json('SEARCH_CACHE.json') "
   ]
  },
  {
   "cell_type": "code",
   "execution_count": 5,
   "metadata": {
    "scrolled": true
   },
   "outputs": [],
   "source": [
    "df=pd.DataFrame(pd.read_json('SEARCH_CACHE.json')) \n",
    "df_youtube_results=df.loc[:,['id','snippet']]\n",
    "df=pd.merge(df, pd.json_normalize(df['id']), left_index=True, right_index=True) \n",
    "df=pd.merge(df, pd.json_normalize(df['snippet']), left_index=True, right_index=True) \n",
    "df=df.iloc[:,3:] \n",
    "df.drop([c for c in df.columns if 'thumb' in c], axis=1, inplace=True )  \n",
    "df_youtube_results=df"
   ]
  },
  {
   "cell_type": "markdown",
   "metadata": {},
   "source": [
    "request = youtube.videos().list( part='id,statistics' , id=list(df_youtube_results['videoId']))\n",
    "response = request.execute()\n",
    "response"
   ]
  },
  {
   "cell_type": "markdown",
   "metadata": {},
   "source": [
    "# STATS CACHE"
   ]
  },
  {
   "cell_type": "code",
   "execution_count": 6,
   "metadata": {},
   "outputs": [],
   "source": [
    "if not CONST_USE_CACHE:\n",
    "    print('fetching api') \n",
    "    request = youtube.videos().list(\n",
    "        part='id,statistics'\n",
    "        , id=list(df_youtube_results['videoId']))\n",
    "    print(request)\n",
    "    response = request.execute()\n",
    "    df=pd.DataFrame(response['items']) \n",
    "    df.to_json('VIDEO_CACHE.json') "
   ]
  },
  {
   "cell_type": "code",
   "execution_count": 10,
   "metadata": {
    "scrolled": true
   },
   "outputs": [],
   "source": [
    "df=pd.DataFrame(pd.read_json('VIDEO_CACHE.json')) \n",
    "df=pd.merge(df, pd.json_normalize(df['statistics']), left_index=True, right_index=True) \n",
    "df=df.iloc[:,2:] \n",
    "df.drop([c for c in df.columns if 'statistics' in c], axis=1, inplace=True )  \n",
    "df_stats=df"
   ]
  },
  {
   "cell_type": "code",
   "execution_count": 30,
   "metadata": {
    "scrolled": true
   },
   "outputs": [],
   "source": [
    "df=pd.merge(df_youtube_results, df_stats, left_on=\"videoId\", right_on=\"id\") \n",
    "df.drop([c for c in df.columns if ('_' in c) | (c in ['snippet', 'id'])], axis=1, inplace=True )    \n",
    "df['publishedAt'] = pd.to_datetime(df['publishedAt'])\n",
    "df['publishTime'] = pd.to_datetime(df['publishTime']) \n",
    "df_youtube=df\n",
    "df_youtube.to_csv('youtube.csv') "
   ]
  },
  {
   "cell_type": "markdown",
   "metadata": {
    "scrolled": true
   },
   "source": [
    "json=pd.read_json(f'SEARCH-2020-03-15.json')\n",
    "df=pd.DataFrame(json)\n",
    "dct = {}\n",
    "for index, row in df.iterrows():\n",
    "    print ( row[index]['id'])"
   ]
  },
  {
   "cell_type": "code",
   "execution_count": null,
   "metadata": {},
   "outputs": [],
   "source": []
  }
 ],
 "metadata": {
  "kernelspec": {
   "display_name": "Python 3",
   "language": "python",
   "name": "python3"
  },
  "language_info": {
   "codemirror_mode": {
    "name": "ipython",
    "version": 3
   },
   "file_extension": ".py",
   "mimetype": "text/x-python",
   "name": "python",
   "nbconvert_exporter": "python",
   "pygments_lexer": "ipython3",
   "version": "3.8.3"
  }
 },
 "nbformat": 4,
 "nbformat_minor": 4
}
